{
 "cells": [
  {
   "attachments": {},
   "cell_type": "markdown",
   "metadata": {},
   "source": [
    "Convolution layers apply a small sliding filter over the input image and perform element-wise multiplication and addition to produce an output feature map which helps in effectively capturing spatial relationships and local patterns in the image, however using convolution layers for inpainting often leads to artifacts such as color discrepancy and blurriness."
   ]
  },
  {
   "attachments": {},
   "cell_type": "markdown",
   "metadata": {},
   "source": [
    "Partial Convolution layers on the other hand takes into account the masked regions of the input image. In inpainting tasks, the input image has missing pixels, and partial convolution layers only use the available pixels to compute the convolution operation, so that the output pixel values in the masked region are not affected by the missing values."
   ]
  },
  {
   "attachments": {},
   "cell_type": "markdown",
   "metadata": {},
   "source": [
    "# Partial Convolution Layer"
   ]
  },
  {
   "attachments": {},
   "cell_type": "markdown",
   "metadata": {},
   "source": [
    "The partial convolution layer computes the convolution operation only on the valid pixels and then divides the output by the number of valid pixels. This division factor ensures that the output values for the masked regions are not biased due to the presence of fewer input values. By using partial convolution layers in an inpainting network, the model can learn to fill in the missing regions while preserving the content and style of the original image."
   ]
  },
  {
   "attachments": {},
   "cell_type": "markdown",
   "metadata": {},
   "source": [
    "$$x' = \\begin{cases} \n",
    "      W^{T}(X\\bigodot M)\\frac{sum(1)}{sum(M)} + b & if sum(M) > 0 \\\\\n",
    "      0, & otherwise \\\\\n",
    "   \\end{cases}$$"
   ]
  },
  {
   "attachments": {},
   "cell_type": "markdown",
   "metadata": {},
   "source": [
    "The partial convolution operation also updates it’s mask M as if the convolution was able to condition its output on at least one valid input value, then we mark that location to be valid"
   ]
  },
  {
   "attachments": {},
   "cell_type": "markdown",
   "metadata": {},
   "source": [
    "$$m' = \\begin{cases} \n",
    "      1 & if sum(M) > 0 \\\\\n",
    "      0, & otherwise \\\\\n",
    "   \\end{cases}$$"
   ]
  },
  {
   "cell_type": "code",
   "execution_count": 1,
   "metadata": {},
   "outputs": [],
   "source": [
    "import torch\n",
    "import torch.nn as nn\n",
    "\n",
    "class PartialConv2d (nn.Module):\n",
    "\tdef __init__(self, in_channels, out_channels, bias=False):\n",
    "\t\tsuper().__init__()\n",
    "\t\tself.input_conv = nn.Conv2d(in_channels, out_channels, 3, 2, 1, bias=bias)\n",
    "\t\tself.mask_conv = nn.Conv2d(in_channels, out_channels, 3, 2, 1, bias=False)\n",
    "\t\tself.activation = nn.ReLU()\n",
    "\t\tnn.init.constant_(self.mask_conv.weight, 1.0)\n",
    "\t\tfor param in self.mask_conv.parameters():\n",
    "\t\t\tparam.requires_grad = False\n",
    "\n",
    "\tdef forward(self, input_x, mask):\n",
    "\t\t# output = W^T dot (X .* M) + b\n",
    "\t\toutput = self.input_conv(input_x * mask)\n",
    "\t\twith torch.no_grad():\n",
    "\t\t\t# mask = (1.M) + 0 = M\n",
    "\t\t\toutput_mask = self.mask_conv(mask)\n",
    "\t\toutput_bias = self.input_conv.bias.view(1, -1, 1, 1).expand_as(output)\n",
    "\t\tmask_is_zero = (output_mask == 0)\n",
    "\t\t# mask_sum is the sum of the binary mask at every partial convolution location \n",
    "\t\tmask_sum = output_mask.masked_fill_(mask_is_zero, 1.0)\n",
    "\t\t# output = (W^T dot (X .* M) + b - b) / M_sum + b ; if M_sum > 0\n",
    "\t\toutput = (output - output_bias) / mask_sum + output_bias\n",
    "\t\t# output = 0 if M_sum == 0\n",
    "\t\toutput = output.masked_fill_(mask_is_zero, 0.0)\n",
    "\t\t# update the mask\n",
    "\t\tnew_mask = torch.ones_like(output)\n",
    "\t\tnew_mask = new_mask.masked_fill_(mask_is_zero, 0.0)\n",
    "\t\toutput = self.activation(output)\n",
    "\t\treturn output, new_mask"
   ]
  }
 ],
 "metadata": {
  "kernelspec": {
   "display_name": "Python 3",
   "language": "python",
   "name": "python3"
  },
  "language_info": {
   "codemirror_mode": {
    "name": "ipython",
    "version": 3
   },
   "file_extension": ".py",
   "mimetype": "text/x-python",
   "name": "python",
   "nbconvert_exporter": "python",
   "pygments_lexer": "ipython3",
   "version": "3.8.0"
  },
  "orig_nbformat": 4
 },
 "nbformat": 4,
 "nbformat_minor": 2
}
